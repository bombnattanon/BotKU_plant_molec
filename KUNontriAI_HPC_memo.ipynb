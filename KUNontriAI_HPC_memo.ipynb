{
 "cells": [
  {
   "cell_type": "markdown",
   "id": "78d390f2",
   "metadata": {},
   "source": [
    "# Basic Linux Command\n",
    "\n",
    "If you haven't already, first install [Visual Studio Code](https://code.visualstudio.com)\n",
    "\n",
    "For Windows users only, also install [WSL](https://ubuntu.com/desktop/wsl)\n",
    "\n",
    "Then, open Visual Studio Code and open a new 'terminal' window."
   ]
  },
  {
   "cell_type": "markdown",
   "id": "bab594be",
   "metadata": {},
   "source": [
    "1. Print working directory\n",
    "\n",
    "    `pwd`\n",
    "\n",
    "\n",
    "2. Change directory\n",
    "\n",
    "    `cd <directory>` Chage to the directory specified\n",
    "\n",
    "    `cd ..` Change to the parent directory of the current directory (go out one step)\n",
    "\n",
    "    `cd ../..` Chage to the grand parent directory of the current directory (go out two steps)\n",
    "\n",
    "    `cd -` Chage to the previous directory you were in\n",
    "\n",
    "\n",
    "3. List folder and files in the current directory\n",
    "\n",
    "    `ls` List files and directories\n",
    "\n",
    "    `ls -alh` list everything, including hidden files, with details\n",
    "\n",
    "\n",
    "4. Remove files and directories\n",
    "\n",
    "    `rm <file>` Remove a file\n",
    "\n",
    "    `rm -d <directory>`, `rmdir` Remove an empty directory\n",
    "\n",
    "    `rm -rf <directory>` Remove a directory whether it is empty or not\n",
    "\n",
    "\n",
    "5. Create a new directory\n",
    "\n",
    "    `mkdir <new directory name>`\n",
    "\n",
    "\n",
    "6. Print text on screen\n",
    "\n",
    "    `echo <message/variable>` Print a message or variable on screen\n",
    "\n",
    "    `less <text file>` Read the first few lines of a text file on screen; type q to quit\n",
    "\n",
    "    `cat <text file>` Read the whole text file on screen\n",
    "\n",
    "\n",
    "7. Copy files and directories\n",
    "\n",
    "    `cp <file> <destination directory>` copy a file to a directory\n",
    "\n",
    "    `cp -r <directory> <distination directory>` copy a directory to another directory\n",
    "\n",
    "\n",
    "8. Move and rename files and directories\n",
    "\n",
    "    `mv <file/directory> <new file/new directory within the original directory>` Rename a file within the same directory\n",
    "\n",
    "    `mv <file/directory> <destination directory>` Move a file or directory into a new directory"
   ]
  },
  {
   "cell_type": "markdown",
   "id": "6187b77d",
   "metadata": {},
   "source": [
    "## Create a text file\n",
    "\n",
    "Using a built-in text editor to create a text file where you can put some text inside.\n",
    "\n",
    "For this class, we will use `nano` as the text editor (there are other options too, e.g., vim)."
   ]
  },
  {
   "cell_type": "code",
   "execution_count": null,
   "id": "10f9bba2",
   "metadata": {
    "vscode": {
     "languageId": "plaintext"
    }
   },
   "outputs": [],
   "source": [
    "nano new_text_file.txt\n",
    "\n",
    "# Type something on your screen\n",
    "\n",
    "# Use CTRL + K to remove the whole line\n",
    "\n",
    "# Then, save and close the shell by pressing CTRL + X and then Y and press ENTER"
   ]
  },
  {
   "cell_type": "markdown",
   "id": "78b0bb3f",
   "metadata": {
    "vscode": {
     "languageId": "plaintext"
    }
   },
   "source": [
    "## Create and organise a directory"
   ]
  },
  {
   "cell_type": "code",
   "execution_count": null,
   "id": "ead6336a",
   "metadata": {
    "vscode": {
     "languageId": "plaintext"
    }
   },
   "outputs": [],
   "source": [
    "# Create a new directory first\n",
    "\n",
    "mkdir new_directory\n",
    "\n",
    "# Then, move the text file you just created into this folder\n",
    "\n",
    "mv new_text_file.txt new_directory\n",
    "\n",
    "# Go inside that directory\n",
    "\n",
    "cd new_directory\n",
    "\n",
    "# Print the text file you just created\n",
    "\n",
    "cat new_text_file.txt"
   ]
  },
  {
   "cell_type": "markdown",
   "id": "04186ccc",
   "metadata": {},
   "source": [
    "# KU Nontri AI\n",
    "\n",
    "We will use the KU Nontri AI for our bioinformatics pipeline. In the example today, we will run quality check, trim adaptor and perform plastid genome assembly.\n",
    "\n",
    "## Manual\n",
    "\n",
    "https://wiki.nontriai.ku.ac.th"
   ]
  },
  {
   "cell_type": "markdown",
   "id": "82541447",
   "metadata": {},
   "source": [
    "## Log in to KU Nontri AI\n",
    "\n",
    "Simply type ssh followed by your username and host name in your terminal (the laptop must be connected to KU network, either directly or through VPN.)"
   ]
  },
  {
   "cell_type": "code",
   "execution_count": null,
   "id": "e8728df3",
   "metadata": {
    "vscode": {
     "languageId": "plaintext"
    }
   },
   "outputs": [],
   "source": [
    "ssh YOUR_USERNAME@158.108.222.131\n",
    "\n",
    "# Then, type in your password (Username and password will be given to you just before we start the workshop)\n",
    "\n",
    "# If you log in to the cluster for the first time, you will need to chage your password, please refer to the manual above."
   ]
  },
  {
   "cell_type": "code",
   "execution_count": null,
   "id": "166e30f7",
   "metadata": {
    "vscode": {
     "languageId": "plaintext"
    }
   },
   "outputs": [],
   "source": [
    "# Changing password, first, type\n",
    "\n",
    "passwd\n",
    "\n",
    "# Then, type your original password, then type your new password and a confirmation\n",
    "\n",
    "logout\n",
    "\n",
    "# Re-login again"
   ]
  },
  {
   "cell_type": "markdown",
   "id": "79c755cd",
   "metadata": {},
   "source": [
    "## Create a working directory\n",
    "\n",
    "You will create a directory used for this module. This is also to help you organise your files, inputs and outputs throughout your analysis."
   ]
  },
  {
   "cell_type": "code",
   "execution_count": null,
   "id": "90f450ca",
   "metadata": {
    "vscode": {
     "languageId": "plaintext"
    }
   },
   "outputs": [],
   "source": [
    "# Create a new directory called plant_molec\n",
    "mkdir plant_molec\n",
    "\n",
    "# Go inside the folder\n",
    "cd plant_molec\n",
    "\n",
    "# Tips: you can type the first few letters of your directory and then press 'tab', bash will complete the full path for you automatically\n",
    "\n",
    "# You can play with the following commands\n",
    "\n",
    "mkdir folder_1\n",
    "\n",
    "cd folder_1\n",
    "\n",
    "cd ../\n",
    "\n",
    "rmdir folder_1\n",
    "\n",
    "echo \"I am a message inside a text file created by $USER\" > text_file.txt\n",
    "\n",
    "cat text_file.txt"
   ]
  },
  {
   "cell_type": "markdown",
   "id": "78b3fb30",
   "metadata": {},
   "source": [
    "# Conda\n",
    "\n",
    "## Activation\n",
    "\n",
    "If you have not used CONDA on this username before, type this:"
   ]
  },
  {
   "cell_type": "code",
   "execution_count": null,
   "id": "b81e4a2c",
   "metadata": {
    "vscode": {
     "languageId": "plaintext"
    }
   },
   "outputs": [],
   "source": [
    "source /data/programs/anaconda3/bin/activate\n",
    "conda init --all"
   ]
  },
  {
   "cell_type": "markdown",
   "id": "26a1843b",
   "metadata": {},
   "source": [
    "Then, log out and re-log in again. Then test whether CONDA actually works by typing:"
   ]
  },
  {
   "cell_type": "code",
   "execution_count": null,
   "id": "969d06cc",
   "metadata": {
    "vscode": {
     "languageId": "plaintext"
    }
   },
   "outputs": [],
   "source": [
    "# Check existing installed packages\n",
    "conda list\n",
    "\n",
    "# Check existing environments\n",
    "conda env list"
   ]
  },
  {
   "cell_type": "markdown",
   "id": "ef83a05f",
   "metadata": {},
   "source": [
    "## Create a virtual environment\n",
    "\n",
    "Since different packages usually require different set of dependencies (e.g., python version), it is a good practice to install each packages in different virtual environments."
   ]
  },
  {
   "cell_type": "code",
   "execution_count": null,
   "id": "a12b8f8f",
   "metadata": {
    "vscode": {
     "languageId": "plaintext"
    }
   },
   "outputs": [],
   "source": [
    "conda create --name <environment_name> python=3.12"
   ]
  },
  {
   "cell_type": "markdown",
   "id": "45875739",
   "metadata": {},
   "source": [
    "## Remove a virtual environment"
   ]
  },
  {
   "cell_type": "code",
   "execution_count": null,
   "id": "0a4fdec5",
   "metadata": {
    "vscode": {
     "languageId": "plaintext"
    }
   },
   "outputs": [],
   "source": [
    "conda remove -n <environment_name> --all"
   ]
  },
  {
   "cell_type": "markdown",
   "id": "dc1481eb",
   "metadata": {},
   "source": [
    "# SLURM\n",
    "\n",
    "Since now you're lonly logged in onto a computing node called 'head node' which does not really great resources for computing, you will need to submit your jobs onto computing nodes instead.\n",
    "\n",
    "HPC clusters typically contain multiple computing nodes, each with mutliple CPUs, GPUs and large memory. For the HPC to know what kind of jobs you are running, how much resources they need, how long you aim to run they for, you need a job scheduler. \n",
    "\n",
    "KU Nontri AI HPC uses 'SLURM' as the job scheduler. The following commands show you how to understand the available resources and specify what you need for your jobs."
   ]
  },
  {
   "cell_type": "markdown",
   "id": "6ea20b85",
   "metadata": {},
   "source": [
    "## Check the node status"
   ]
  },
  {
   "cell_type": "code",
   "execution_count": null,
   "id": "46304330",
   "metadata": {
    "vscode": {
     "languageId": "plaintext"
    }
   },
   "outputs": [],
   "source": [
    "# Check resources for each partition\n",
    "scontrol show partitions\n",
    "\n",
    "# Check resources for each node\n",
    "scontrol show nodes"
   ]
  },
  {
   "cell_type": "markdown",
   "id": "72e25121",
   "metadata": {},
   "source": [
    "## Submit a job\n",
    "\n",
    "To submit a job, we need to do it through SLURM, either by using a single command line or create a SLURM shell for more complicated jobs.\n",
    "\n",
    "\n",
    "### Using SLURM shell script\n",
    "\n",
    "An example of SLURM headings and simple script is shown below\n",
    "\n",
    "You can use `nano` to create this script"
   ]
  },
  {
   "cell_type": "code",
   "execution_count": null,
   "id": "d3073ba6",
   "metadata": {
    "vscode": {
     "languageId": "plaintext"
    }
   },
   "outputs": [],
   "source": [
    "# To create the script\n",
    "\n",
    "nano my_slurm_script.sh\n",
    "\n",
    "# Then, copy and paste the following script"
   ]
  },
  {
   "cell_type": "code",
   "execution_count": null,
   "id": "e72d0cb4",
   "metadata": {
    "vscode": {
     "languageId": "plaintext"
    }
   },
   "outputs": [],
   "source": [
    "#!/bin/bash\n",
    "\n",
    "#SBATCH --job-name=test\n",
    "#SBATCH --cpus-per-task=1\n",
    "#SBATCH --gres=gpu:1\n",
    "#SBATCH --mem=1G\n",
    "#SBATCH --time=0-00:10:00\n",
    "#SBATCH -o stdout_test.log\n",
    "#SBATCH -e stderr_test.log\n",
    "#SBATCH --email\n",
    "\n",
    "echo \"Hello! This is my first time using an HPC. My username is $USER. I submiited my first ever job using SLURM inside $PWD and my task number is $SLURM_JOB_ID.\" > output_out.txt"
   ]
  },
  {
   "cell_type": "code",
   "execution_count": null,
   "id": "6f70be61",
   "metadata": {
    "vscode": {
     "languageId": "plaintext"
    }
   },
   "outputs": [],
   "source": [
    "# Then, save and close the shell by pressing CTRL + X and then Y and press ENTER"
   ]
  },
  {
   "cell_type": "markdown",
   "id": "304fbd18",
   "metadata": {},
   "source": [
    "You can set SLURM to email you when the job has finished/failed/error occured/rached the time limit by adding a few lines..."
   ]
  },
  {
   "cell_type": "code",
   "execution_count": null,
   "id": "a8c4daad",
   "metadata": {
    "vscode": {
     "languageId": "plaintext"
    }
   },
   "outputs": [],
   "source": [
    "#!/bin/bash\n",
    "\n",
    "#SBATCH --job-name=test\n",
    "#SBATCH --cpus-per-task=1\n",
    "#SBATCH --mem=1G\n",
    "#SBATCH --time=0-00:10:00\n",
    "#SBATCH -o stdout_test_%j.log\n",
    "#SBATCH -e stderr_test_%j.log\n",
    "#SBATCH --mail-user=nattanon.meep@live.ku.th\n",
    "#SBATCH --mail-type=END,FAIL,TIME_LIMIT\n",
    "\n",
    "echo \"Hello! This is my first time using an HPC. My username is $USER. I submiited my first ever job using SLURM inside $PWD and my task number is $SLURM_JOB_ID.\" > output_out.txt"
   ]
  },
  {
   "cell_type": "code",
   "execution_count": null,
   "id": "600dcf31",
   "metadata": {
    "vscode": {
     "languageId": "plaintext"
    }
   },
   "outputs": [],
   "source": [
    "# Then, submit the script you just created using\n",
    "\n",
    "sbatch my_slurm_script.sh"
   ]
  },
  {
   "cell_type": "markdown",
   "id": "689c32fd",
   "metadata": {},
   "source": [
    "### Using SBATCH command line\n",
    "\n",
    "For less complicated script or something you need to run quickly, you can simply use the command `sbatch` with `wrap` that contains the command you want to run and submit it through SLRUM without having to create a SLURM shell script."
   ]
  },
  {
   "cell_type": "code",
   "execution_count": null,
   "id": "68946ddd",
   "metadata": {
    "vscode": {
     "languageId": "plaintext"
    }
   },
   "outputs": [],
   "source": [
    "# For example, if I want to run FastQC on all the .fq.gz files in the current directory using 4 CPUs and 3Gb of RAM\n",
    "\n",
    "YOUR_CMD=\"fastqc *.fq.gz\"\n",
    "\n",
    "sbatch --job-name fastqc --cpus-per-task 4 --mem 2G --wrap=\"$YOUR_CMD\""
   ]
  },
  {
   "cell_type": "markdown",
   "id": "da37bffe",
   "metadata": {},
   "source": [
    "## Example Genome Assembly tasks\n",
    "\n",
    "Here, each of you will have different input raw read files from Illumina sequencing. They come from different species of plants.\n",
    "\n",
    "We will assembly only the plastid genome (plastome) from these raw reads using GetOrganelle (basically, we will throw away about 90% of raw reads unfortunately).\n",
    "\n",
    "Then, we will check what species they belong to using BLAST."
   ]
  },
  {
   "cell_type": "markdown",
   "id": "d41f8692",
   "metadata": {},
   "source": [
    "Create the SLURM script below using nano:\n",
    "\n",
    "`nano getorganelle.sh`\n",
    "\n",
    "Then copy and paste the following script, and save it using CTRL + X > y > ENTER:"
   ]
  },
  {
   "cell_type": "code",
   "execution_count": null,
   "id": "fc3cf4e7",
   "metadata": {
    "vscode": {
     "languageId": "plaintext"
    }
   },
   "outputs": [],
   "source": [
    "#!/bin/bash\n",
    "\n",
    "#SBATCH --job-name=GetOrganelle\n",
    "#SBATCH --cpus-per-task=4\n",
    "#SBATCH --mem=12G\n",
    "#SBATCH --time=0-6:00:00\n",
    "#SBATCH -o stdout_getorganelle.log\n",
    "#SBATCH -e stderr_getorganelle.log\n",
    "#SBATCH --mail-user=nattanon.meep@live.ku.th\n",
    "#SBATCH --mail-type=END,FAIL,TIME_LIMIT\n",
    "\n",
    "if [[ $# -eq 0 ]] ; then\n",
    "    echo 'Error: Please provide a sample name as the first argument when running this script.'\n",
    "    exit 0\n",
    "fi\n",
    "\n",
    "source activate /data/users/fscinnme/packages/miniforge3/envs/getorganelle\n",
    "\n",
    "name=$1\n",
    "\n",
    "echo $name\n",
    "\n",
    "get_organelle_from_reads.py -1 /data/users/fscinnme/data/raw_reads/${name}/${name}*_1.fq.gz -2 /data/users/fscinnme/data/raw_reads/${name}/${name}*_2.fq.gz -o plastid_${name} --prefix ${name}_ -R 30 -k 35,85,127 -F embplant_pt"
   ]
  },
  {
   "cell_type": "code",
   "execution_count": null,
   "id": "8380b5a6",
   "metadata": {
    "vscode": {
     "languageId": "plaintext"
    }
   },
   "outputs": [],
   "source": [
    "# Specify your sample name, for example\n",
    "\n",
    "sample=NM221"
   ]
  },
  {
   "cell_type": "markdown",
   "id": "1bb50081",
   "metadata": {},
   "source": [
    "Submit the SLURM script using the sbatch command with the first argument being your sample name:"
   ]
  },
  {
   "cell_type": "code",
   "execution_count": null,
   "id": "cc6db189",
   "metadata": {
    "vscode": {
     "languageId": "plaintext"
    }
   },
   "outputs": [],
   "source": [
    "sbatch getorganelle.sh $sample\n",
    "\n",
    "# You can also directly type your sample name in like this:\n",
    "\n",
    "sbatch getorganelle.sh NM221"
   ]
  },
  {
   "cell_type": "markdown",
   "id": "79fed888",
   "metadata": {},
   "source": [
    "# File Transfer\n",
    "\n",
    "Since we run these jobs on the remote server, we need to be able to transfer the inputs onto the remote server and the outputs back to local machine.\n",
    "\n",
    "This can be done in multiple ways:\n",
    "\n",
    "(1) Using SCP/SFCP protocols, either using command lines or 3rd-party softwares (e.g., FileZilla, WinSCP).\n",
    "\n",
    "(2) Using Rsync—a built-in command that can 'sync' files between remote and local machines."
   ]
  },
  {
   "cell_type": "markdown",
   "id": "05a85284",
   "metadata": {},
   "source": [
    "## FileZilla\n",
    "\n",
    "First, download [FileZilla](https://filezilla-project.org) and install the program.\n",
    "\n",
    "Then, connect to the remote host following the steps below:\n",
    "\n",
    "![FileZillaConnect](Images/01_filezilla_connect.png)\n",
    "\n",
    "After the connection is successful, you will see the remote directory on the righthand side window and your local directory on the lefthand side window.\n",
    "\n",
    "Simply drag files you want to transfer between the remote host (righthand side) and your local machine (lefthand side) and wait until the transfer is done.\n",
    "\n",
    "![FileZillaConnect](Images/02_filezilla_transfer.png)"
   ]
  },
  {
   "cell_type": "markdown",
   "id": "059eca9c",
   "metadata": {},
   "source": [
    "## Rsync\n",
    "\n",
    "Rsync provides command lines that can be used to transfer and sync data between your local and remote machines.\n",
    "\n",
    "It has the advantages over FileZilla that you can include an rsync command inside your command line or shell, for example, transfer the output once the script finished running.\n",
    "\n",
    "The following commands show example usage of rsync. To make it simple, always run rsync from your local machine."
   ]
  },
  {
   "cell_type": "code",
   "execution_count": null,
   "id": "28f0c40e",
   "metadata": {
    "vscode": {
     "languageId": "plaintext"
    }
   },
   "outputs": [],
   "source": [
    "# This example uses for downloading all .html files from a remote directory to the current local directory\n",
    "\n",
    "rsync -azv YOUR_USERNAME@158.108.222.131:/path/to/remote/directory/*html /path/to/local/directory"
   ]
  },
  {
   "cell_type": "markdown",
   "id": "67f4c7d0-b902-4bb3-b951-793443fc9c9f",
   "metadata": {},
   "source": [
    "# Plastid Genome Annotation\n",
    "\n",
    "After you get circular plastomes from GetOrganelle, you will see that inside these fasta files, there is simply a long string of nucleotide sequences and are not very meaningful to human eyes.\n",
    "\n",
    "Therefore, we need to locate where each genes are, the process is called 'Annotation', so these plastomes become usable for other applications, e.g., phylogenetics or DNA barcoding.\n",
    "\n",
    "This can be done in several ways. Today we will use [GeSeq](https://chlorobox.mpimp-golm.mpg.de/geseq.html), a web-based plastform, to help annotate our plastomes.\n",
    "\n",
    "1. Simply upload your plastome assemblies (fasta file) — make sure they are circular plastomes\n",
    "2. Check 'Circular' and 'Plastid (land plants)' and other options can be left as default.\n",
    "3. You can optionally use other 3rd-party plastome annotators to either annotate or support the GeSeq default annotators. I personally perfer 'Chloe' as a stand-alone annotator.\n",
    "4. I also found that ARAGORN is a better tRNA annotator than BLAT search.\n",
    "5. My default settings can be found in the attach image below.\n",
    "\n",
    "![Geseq](images/03_Geseq.png)\n",
    "\n",
    "6. After finishing, you can download your results and now you will see a GenBank file of your plastomes which tells you the location of each plastid gene.\n",
    "7. You can visualise GenBank file in a software like [OpenVectorEditor](https://github.com/TeselaGen/tg-oss/tree/master/packages/ove) (free) or Geneious (Subscription).\n",
    "8. Then, you can see the location of every gene on your plastome. You can extract these data for other analyses.\n",
    "\n",
    "![04_OpenVectorEditor.png](images/04_OpenVectorEditor.png)"
   ]
  }
 ],
 "metadata": {
  "kernelspec": {
   "display_name": "Python 3 (ipykernel)",
   "language": "python",
   "name": "python3"
  },
  "language_info": {
   "codemirror_mode": {
    "name": "ipython",
    "version": 3
   },
   "file_extension": ".py",
   "mimetype": "text/x-python",
   "name": "python",
   "nbconvert_exporter": "python",
   "pygments_lexer": "ipython3",
   "version": "3.10.12"
  }
 },
 "nbformat": 4,
 "nbformat_minor": 5
}
